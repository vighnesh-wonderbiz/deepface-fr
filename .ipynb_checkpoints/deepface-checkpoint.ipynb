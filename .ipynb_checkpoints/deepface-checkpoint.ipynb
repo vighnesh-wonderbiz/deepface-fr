{
 "cells": [
  {
   "cell_type": "code",
   "execution_count": null,
   "id": "8968723d-d37d-4417-a192-e8ae61adff47",
   "metadata": {},
   "outputs": [],
   "source": [
    "import sqlite3\n"
   ]
  },
  {
   "cell_type": "code",
   "execution_count": null,
   "id": "3bdc51ac-f842-4d72-a4de-32041a492b4e",
   "metadata": {},
   "outputs": [],
   "source": [
    "def create_tables():\n",
    "    try:\n",
    "        with sqlite3.connect('emp.db') as conn:\n",
    "            cursor = conn.cursor()\n",
    "            cursor.execute('''\n",
    "                CREATE TABLE IF NOT EXISTS Users (\n",
    "                    Id INTEGER PRIMARY KEY AUTOINCREMENT,\n",
    "                    Name TEXT NOT NULL,\n",
    "                    FaceEncoding BLOB\n",
    "                )\n",
    "            ''')\n",
    "            # Create attendance table\n",
    "            cursor.execute('''\n",
    "                CREATE TABLE IF NOT EXISTS Attendance (\n",
    "                    Id INTEGER PRIMARY KEY AUTOINCREMENT,\n",
    "                    UserId INTEGER,\n",
    "                    Timestamp DATETIME DEFAULT CURRENT_TIMESTAMP,\n",
    "                    FOREIGN KEY(UserId) REFERENCES Users(Id)\n",
    "                )\n",
    "            ''')\n",
    "            print(\"Tables created or already exist.\")\n",
    "    except sqlite3.Error as e:\n",
    "        print(f\"An error occurred: {e}\")\n",
    "\n",
    "create_tables()\n"
   ]
  },
  {
   "cell_type": "code",
   "execution_count": null,
   "id": "aa59b9a6-589e-4510-b078-1f67977b1506",
   "metadata": {},
   "outputs": [],
   "source": [
    "import pickle\n",
    "from deepface import DeepFace\n",
    "import numpy as np\n",
    "\n",
    "def insert_user(name, image_path):\n",
    "    try:\n",
    "        with sqlite3.connect('emp.db') as conn:\n",
    "            cursor = conn.cursor()\n",
    "            encoding = DeepFace.represent(image_path, model_name='VGG-Face', enforce_detection=False)[0]\n",
    "            cursor.execute('INSERT INTO Users (name, face_encoding) VALUES (?, ?)', (name, pickle.dumps(encoding)))\n",
    "            conn.commit()\n",
    "            print(f\"User {name} added successfully.\")\n",
    "    except sqlite3.Error as e:\n",
    "        print(f\"An error occurred: {e}\")\n",
    "\n",
    "insert_user('John Doe', 'images/john_doe.jpg')\n"
   ]
  }
 ],
 "metadata": {
  "kernelspec": {
   "display_name": "deepface",
   "language": "python",
   "name": "deepface"
  },
  "language_info": {
   "codemirror_mode": {
    "name": "ipython",
    "version": 3
   },
   "file_extension": ".py",
   "mimetype": "text/x-python",
   "name": "python",
   "nbconvert_exporter": "python",
   "pygments_lexer": "ipython3",
   "version": "3.12.4"
  }
 },
 "nbformat": 4,
 "nbformat_minor": 5
}
