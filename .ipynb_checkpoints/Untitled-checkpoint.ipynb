{
 "cells": [
  {
   "cell_type": "code",
   "execution_count": 2,
   "id": "a2582d29-0373-492f-8927-9f170a4533c7",
   "metadata": {},
   "outputs": [],
   "source": [
    "import sqlite3\n",
    "\n"
   ]
  },
  {
   "cell_type": "code",
   "execution_count": 6,
   "id": "25fad274-6020-442e-9e34-c2344b065899",
   "metadata": {},
   "outputs": [
    {
     "data": {
      "text/plain": [
       "<sqlite3.Cursor at 0x29a9f252bc0>"
      ]
     },
     "execution_count": 6,
     "metadata": {},
     "output_type": "execute_result"
    }
   ],
   "source": []
  },
  {
   "cell_type": "code",
   "execution_count": 10,
   "id": "99a02265-c020-4a50-a9ad-ecbce62288f1",
   "metadata": {},
   "outputs": [
    {
     "data": {
      "text/plain": [
       "<sqlite3.Cursor at 0x29a9f252bc0>"
      ]
     },
     "execution_count": 10,
     "metadata": {},
     "output_type": "execute_result"
    }
   ],
   "source": [
    "cursor.execute(\"INSERT INTO Users (Name) VALUES ('Vighnesh')\")"
   ]
  },
  {
   "cell_type": "code",
   "execution_count": 12,
   "id": "b5fa512f-73bc-4792-88d9-f8bc14477ff7",
   "metadata": {},
   "outputs": [
    {
     "name": "stdout",
     "output_type": "stream",
     "text": [
      "[(1, 'Vighnesh')]\n"
     ]
    }
   ],
   "source": [
    "rows = cursor.execute(\"SELECT * FROM Users\").fetchall()\n",
    "print(rows)"
   ]
  },
  {
   "cell_type": "code",
   "execution_count": null,
   "id": "91c01ba0-bc8d-461f-993d-5584a4440181",
   "metadata": {},
   "outputs": [],
   "source": []
  },
  {
   "cell_type": "code",
   "execution_count": 13,
   "id": "67b6d5ea-974f-4cde-a6f6-5c3b904e30b2",
   "metadata": {},
   "outputs": [],
   "source": [
    "def init():\n",
    "    try:\n",
    "        with sqlite3.connect('database.db') as conn:\n",
    "            cursor = conn.cursor()\n",
    "            cursor.execute(\"CREATE TABLE IF NOT EXISTS Users(Id INTEGER PRIMARY KEY, Name VARCHAR(50) NOT NULL)\")\n",
    "    except sqlite3.Error as e:\n",
    "        print(f\"An error occurred while creating the table: {e}\")\n"
   ]
  },
  {
   "cell_type": "code",
   "execution_count": 14,
   "id": "635ade04-b8d5-44b6-8014-e8123fcc3e3d",
   "metadata": {},
   "outputs": [],
   "source": [
    "def insert_data(name):\n",
    "    try:\n",
    "        with sqlite3.connect('database.db') as conn:\n",
    "            cursor = conn.cursor()\n",
    "            sql = 'INSERT INTO Users (Name) VALUES (?)'\n",
    "            cursor.execute(sql, (name))\n",
    "            row_id = cursor.lastrowid\n",
    "            conn.commit()\n",
    "            return row_id\n",
    "    except sqlite3.IntegrityError:\n",
    "        print(\"Error: The email address already exists.\")\n",
    "    except sqlite3.Error as e:\n",
    "        print(f\"An error occurred while inserting data: {e}\")\n"
   ]
  },
  {
   "cell_type": "code",
   "execution_count": 15,
   "id": "5166f6d9-deed-45e3-8b57-ed81304e16b9",
   "metadata": {},
   "outputs": [
    {
     "name": "stdout",
     "output_type": "stream",
     "text": [
      "An error occurred while inserting data: Incorrect number of bindings supplied. The current statement uses 1, and there are 5 supplied.\n"
     ]
    }
   ],
   "source": [
    "init()\n",
    "insert_data(\"Test1\")"
   ]
  }
 ],
 "metadata": {
  "kernelspec": {
   "display_name": "siamese-net",
   "language": "python",
   "name": "siamese-net"
  },
  "language_info": {
   "codemirror_mode": {
    "name": "ipython",
    "version": 3
   },
   "file_extension": ".py",
   "mimetype": "text/x-python",
   "name": "python",
   "nbconvert_exporter": "python",
   "pygments_lexer": "ipython3",
   "version": "3.12.4"
  }
 },
 "nbformat": 4,
 "nbformat_minor": 5
}
